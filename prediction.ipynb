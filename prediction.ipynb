{
 "cells": [
  {
   "cell_type": "code",
   "execution_count": 5,
   "metadata": {},
   "outputs": [],
   "source": [
    "# Step 1: Import Libraries and Load the Model\n",
    "import numpy as np\n",
    "import tensorflow as tf\n",
    "from tensorflow.keras.datasets import imdb\n",
    "from tensorflow.keras.preprocessing import sequence\n",
    "from tensorflow.keras.models import load_model"
   ]
  },
  {
   "cell_type": "code",
   "execution_count": 6,
   "metadata": {},
   "outputs": [],
   "source": [
    "\n",
    "# Load the IMDB dataset word index\n",
    "word_index = imdb.get_word_index()\n",
    "reverse_word_index = {value: key for key, value in word_index.items()}"
   ]
  },
  {
   "cell_type": "code",
   "execution_count": 7,
   "metadata": {},
   "outputs": [
    {
     "name": "stderr",
     "output_type": "stream",
     "text": [
      "WARNING:absl:Compiled the loaded model, but the compiled metrics have yet to be built. `model.compile_metrics` will be empty until you train or evaluate the model.\n"
     ]
    },
    {
     "data": {
      "text/html": [
       "<pre style=\"white-space:pre;overflow-x:auto;line-height:normal;font-family:Menlo,'DejaVu Sans Mono',consolas,'Courier New',monospace\"><span style=\"font-weight: bold\">Model: \"sequential_1\"</span>\n",
       "</pre>\n"
      ],
      "text/plain": [
       "\u001b[1mModel: \"sequential_1\"\u001b[0m\n"
      ]
     },
     "metadata": {},
     "output_type": "display_data"
    },
    {
     "data": {
      "text/html": [
       "<pre style=\"white-space:pre;overflow-x:auto;line-height:normal;font-family:Menlo,'DejaVu Sans Mono',consolas,'Courier New',monospace\">┏━━━━━━━━━━━━━━━━━━━━━━━━━━━━━━━━━┳━━━━━━━━━━━━━━━━━━━━━━━━┳━━━━━━━━━━━━━━━┓\n",
       "┃<span style=\"font-weight: bold\"> Layer (type)                    </span>┃<span style=\"font-weight: bold\"> Output Shape           </span>┃<span style=\"font-weight: bold\">       Param # </span>┃\n",
       "┡━━━━━━━━━━━━━━━━━━━━━━━━━━━━━━━━━╇━━━━━━━━━━━━━━━━━━━━━━━━╇━━━━━━━━━━━━━━━┩\n",
       "│ embedding_1 (<span style=\"color: #0087ff; text-decoration-color: #0087ff\">Embedding</span>)         │ (<span style=\"color: #00af00; text-decoration-color: #00af00\">1</span>, <span style=\"color: #00af00; text-decoration-color: #00af00\">100</span>, <span style=\"color: #00af00; text-decoration-color: #00af00\">128</span>)          │     <span style=\"color: #00af00; text-decoration-color: #00af00\">1,280,000</span> │\n",
       "├─────────────────────────────────┼────────────────────────┼───────────────┤\n",
       "│ simple_rnn_1 (<span style=\"color: #0087ff; text-decoration-color: #0087ff\">SimpleRNN</span>)        │ (<span style=\"color: #00af00; text-decoration-color: #00af00\">1</span>, <span style=\"color: #00af00; text-decoration-color: #00af00\">128</span>)               │        <span style=\"color: #00af00; text-decoration-color: #00af00\">32,896</span> │\n",
       "├─────────────────────────────────┼────────────────────────┼───────────────┤\n",
       "│ dense_1 (<span style=\"color: #0087ff; text-decoration-color: #0087ff\">Dense</span>)                 │ (<span style=\"color: #00af00; text-decoration-color: #00af00\">1</span>, <span style=\"color: #00af00; text-decoration-color: #00af00\">1</span>)                 │           <span style=\"color: #00af00; text-decoration-color: #00af00\">129</span> │\n",
       "└─────────────────────────────────┴────────────────────────┴───────────────┘\n",
       "</pre>\n"
      ],
      "text/plain": [
       "┏━━━━━━━━━━━━━━━━━━━━━━━━━━━━━━━━━┳━━━━━━━━━━━━━━━━━━━━━━━━┳━━━━━━━━━━━━━━━┓\n",
       "┃\u001b[1m \u001b[0m\u001b[1mLayer (type)                   \u001b[0m\u001b[1m \u001b[0m┃\u001b[1m \u001b[0m\u001b[1mOutput Shape          \u001b[0m\u001b[1m \u001b[0m┃\u001b[1m \u001b[0m\u001b[1m      Param #\u001b[0m\u001b[1m \u001b[0m┃\n",
       "┡━━━━━━━━━━━━━━━━━━━━━━━━━━━━━━━━━╇━━━━━━━━━━━━━━━━━━━━━━━━╇━━━━━━━━━━━━━━━┩\n",
       "│ embedding_1 (\u001b[38;5;33mEmbedding\u001b[0m)         │ (\u001b[38;5;34m1\u001b[0m, \u001b[38;5;34m100\u001b[0m, \u001b[38;5;34m128\u001b[0m)          │     \u001b[38;5;34m1,280,000\u001b[0m │\n",
       "├─────────────────────────────────┼────────────────────────┼───────────────┤\n",
       "│ simple_rnn_1 (\u001b[38;5;33mSimpleRNN\u001b[0m)        │ (\u001b[38;5;34m1\u001b[0m, \u001b[38;5;34m128\u001b[0m)               │        \u001b[38;5;34m32,896\u001b[0m │\n",
       "├─────────────────────────────────┼────────────────────────┼───────────────┤\n",
       "│ dense_1 (\u001b[38;5;33mDense\u001b[0m)                 │ (\u001b[38;5;34m1\u001b[0m, \u001b[38;5;34m1\u001b[0m)                 │           \u001b[38;5;34m129\u001b[0m │\n",
       "└─────────────────────────────────┴────────────────────────┴───────────────┘\n"
      ]
     },
     "metadata": {},
     "output_type": "display_data"
    },
    {
     "data": {
      "text/html": [
       "<pre style=\"white-space:pre;overflow-x:auto;line-height:normal;font-family:Menlo,'DejaVu Sans Mono',consolas,'Courier New',monospace\"><span style=\"font-weight: bold\"> Total params: </span><span style=\"color: #00af00; text-decoration-color: #00af00\">1,313,027</span> (5.01 MB)\n",
       "</pre>\n"
      ],
      "text/plain": [
       "\u001b[1m Total params: \u001b[0m\u001b[38;5;34m1,313,027\u001b[0m (5.01 MB)\n"
      ]
     },
     "metadata": {},
     "output_type": "display_data"
    },
    {
     "data": {
      "text/html": [
       "<pre style=\"white-space:pre;overflow-x:auto;line-height:normal;font-family:Menlo,'DejaVu Sans Mono',consolas,'Courier New',monospace\"><span style=\"font-weight: bold\"> Trainable params: </span><span style=\"color: #00af00; text-decoration-color: #00af00\">1,313,025</span> (5.01 MB)\n",
       "</pre>\n"
      ],
      "text/plain": [
       "\u001b[1m Trainable params: \u001b[0m\u001b[38;5;34m1,313,025\u001b[0m (5.01 MB)\n"
      ]
     },
     "metadata": {},
     "output_type": "display_data"
    },
    {
     "data": {
      "text/html": [
       "<pre style=\"white-space:pre;overflow-x:auto;line-height:normal;font-family:Menlo,'DejaVu Sans Mono',consolas,'Courier New',monospace\"><span style=\"font-weight: bold\"> Non-trainable params: </span><span style=\"color: #00af00; text-decoration-color: #00af00\">0</span> (0.00 B)\n",
       "</pre>\n"
      ],
      "text/plain": [
       "\u001b[1m Non-trainable params: \u001b[0m\u001b[38;5;34m0\u001b[0m (0.00 B)\n"
      ]
     },
     "metadata": {},
     "output_type": "display_data"
    },
    {
     "data": {
      "text/html": [
       "<pre style=\"white-space:pre;overflow-x:auto;line-height:normal;font-family:Menlo,'DejaVu Sans Mono',consolas,'Courier New',monospace\"><span style=\"font-weight: bold\"> Optimizer params: </span><span style=\"color: #00af00; text-decoration-color: #00af00\">2</span> (12.00 B)\n",
       "</pre>\n"
      ],
      "text/plain": [
       "\u001b[1m Optimizer params: \u001b[0m\u001b[38;5;34m2\u001b[0m (12.00 B)\n"
      ]
     },
     "metadata": {},
     "output_type": "display_data"
    }
   ],
   "source": [
    "# Load the pre-trained model with ReLU activation\n",
    "model = load_model('simple_rnn_imdb.h5')\n",
    "model.summary()"
   ]
  },
  {
   "cell_type": "code",
   "execution_count": 8,
   "metadata": {},
   "outputs": [
    {
     "data": {
      "text/plain": [
       "[array([[ 0.0636119 , -0.03781393, -0.02759025, ...,  0.00911885,\n",
       "          0.08311541, -0.02405308],\n",
       "        [ 0.03708754,  0.04482083,  0.0288356 , ...,  0.01465147,\n",
       "         -0.03391185, -0.03219184],\n",
       "        [ 0.02765977, -0.02023891,  0.0963911 , ...,  0.04361192,\n",
       "         -0.04512344, -0.00023838],\n",
       "        ...,\n",
       "        [ 0.02729378,  0.02890578, -0.01418317, ..., -0.0036143 ,\n",
       "          0.06434724, -0.12230194],\n",
       "        [-0.03845916, -0.00153088, -0.02793617, ...,  0.02162497,\n",
       "         -0.01941109,  0.04915481],\n",
       "        [ 0.03082472,  0.09926537, -0.09178881, ...,  0.15253976,\n",
       "          0.09443514,  0.06679509]], dtype=float32),\n",
       " array([[-0.11945605, -0.07200032, -0.08911105, ...,  0.01892431,\n",
       "          0.01201424, -0.07574639],\n",
       "        [-0.04031629,  0.10541613, -0.13322021, ...,  0.02562758,\n",
       "          0.1254945 ,  0.13614857],\n",
       "        [-0.07431919,  0.11145584,  0.11006837, ..., -0.00167884,\n",
       "          0.12430723, -0.0132701 ],\n",
       "        ...,\n",
       "        [-0.0868603 , -0.09285661, -0.02663202, ...,  0.09611585,\n",
       "         -0.01928909, -0.1076435 ],\n",
       "        [ 0.0265599 ,  0.08262774, -0.06998925, ...,  0.04164096,\n",
       "         -0.12260858,  0.07979631],\n",
       "        [-0.17262124,  0.00823466, -0.11780038, ...,  0.05942119,\n",
       "          0.08671549,  0.03648195]], dtype=float32),\n",
       " array([[ 0.01215944,  0.04295244, -0.04412185, ..., -0.04919833,\n",
       "          0.20607063,  0.07342663],\n",
       "        [-0.15381804,  0.08079159,  0.08324064, ..., -0.14345868,\n",
       "          0.06242531,  0.02107263],\n",
       "        [ 0.08343051, -0.06365856,  0.3306598 , ..., -0.18529746,\n",
       "          0.03995865, -0.0004243 ],\n",
       "        ...,\n",
       "        [-0.07312833,  0.08066003, -0.02107003, ..., -0.10079585,\n",
       "         -0.01378937, -0.11365166],\n",
       "        [ 0.04288469,  0.02120742,  0.01908511, ..., -0.05199184,\n",
       "         -0.09849692, -0.06292696],\n",
       "        [-0.02098954,  0.05670996, -0.01321326, ..., -0.03029463,\n",
       "         -0.12342052,  0.08323471]], dtype=float32),\n",
       " array([ 5.8061290e-03,  2.3599125e-02,  1.1475948e-02, -2.4504192e-02,\n",
       "        -2.9253894e-02, -6.1274669e-03, -2.0659899e-02,  8.8538863e-03,\n",
       "        -3.3862829e-02,  2.4347913e-02, -3.2634508e-02, -8.9182686e-03,\n",
       "        -1.6907578e-02, -1.1998679e-02, -7.7778695e-04, -4.2190100e-03,\n",
       "        -9.2668897e-03,  7.5247297e-03, -4.7643576e-02, -5.2855746e-03,\n",
       "        -4.8967713e-04,  4.3245703e-03, -1.6646845e-03,  1.2622505e-02,\n",
       "        -3.5689983e-03,  1.3012232e-03, -1.7960595e-02, -1.3211625e-02,\n",
       "         1.1806817e-02, -2.4499085e-02,  9.3043866e-03,  8.7792370e-03,\n",
       "        -6.5684956e-03,  7.5213822e-05,  1.0380319e-02,  1.1148808e-02,\n",
       "        -1.0189867e-03,  1.1785555e-02,  4.0406706e-03,  1.8186873e-02,\n",
       "        -5.2191806e-03,  1.5776953e-02, -4.9523446e-03, -2.3219310e-02,\n",
       "         1.8287592e-02, -1.1661333e-02, -7.3938509e-03, -1.2341497e-02,\n",
       "         2.3925775e-03,  4.0449481e-04,  2.8870709e-03,  1.0845972e-02,\n",
       "         1.6550774e-03,  6.2183823e-02, -3.9203368e-02,  1.1397013e-02,\n",
       "         1.9482869e-03, -1.2676634e-02, -1.4860439e-02,  9.6592205e-03,\n",
       "         2.2863993e-02,  8.0614043e-03,  3.1483325e-03,  1.0709777e-03,\n",
       "        -1.1345105e-02,  9.4587207e-03, -2.9353771e-02, -6.1615719e-03,\n",
       "        -1.5489981e-02, -1.0231999e-02,  1.9320210e-02, -1.0289932e-02,\n",
       "        -2.1807499e-02, -2.9740265e-02, -1.1844549e-03,  2.3597449e-03,\n",
       "         4.9995934e-03, -1.1313830e-02, -1.0532942e-02, -2.0503746e-02,\n",
       "        -2.8554173e-02,  1.6859733e-02, -2.0905291e-03, -1.1422114e-02,\n",
       "        -1.7618474e-02, -4.2961828e-02, -5.8525661e-03, -7.6877428e-03,\n",
       "        -7.4296356e-03,  1.2608872e-02,  1.6026627e-02, -2.5271026e-03,\n",
       "        -2.2347784e-02, -9.8883884e-04,  3.5570206e-03,  1.0186032e-02,\n",
       "         7.5468241e-04,  3.0565392e-03, -1.8139519e-03,  3.7149440e-03,\n",
       "        -4.5510667e-04,  8.4953038e-03, -1.8738179e-02, -1.9662296e-02,\n",
       "        -2.6898485e-02,  3.9585652e-03,  1.2949118e-02, -1.2326089e-02,\n",
       "         1.2857116e-02, -2.0962213e-03,  1.3029433e-02,  7.0286454e-03,\n",
       "         7.4383989e-02, -5.2491021e-03,  4.4617604e-02,  1.4718412e-02,\n",
       "         6.2024691e-03, -1.6050419e-02,  7.4442877e-03,  1.0528781e-02,\n",
       "        -2.0742673e-02, -7.0978291e-03, -3.2893883e-03,  3.7018855e-03,\n",
       "        -9.3050450e-03, -2.3728110e-02, -6.4602727e-03, -6.9826925e-03],\n",
       "       dtype=float32),\n",
       " array([[-0.11508676],\n",
       "        [ 0.26305446],\n",
       "        [-0.20409442],\n",
       "        [ 0.08311677],\n",
       "        [ 0.09796274],\n",
       "        [-0.04411427],\n",
       "        [-0.38296857],\n",
       "        [ 0.22005737],\n",
       "        [ 0.04708961],\n",
       "        [-0.07099653],\n",
       "        [ 0.22091638],\n",
       "        [ 0.04802605],\n",
       "        [ 0.09337668],\n",
       "        [ 0.07119362],\n",
       "        [ 0.02960209],\n",
       "        [-0.03398285],\n",
       "        [ 0.1952814 ],\n",
       "        [-0.19311799],\n",
       "        [-0.24046506],\n",
       "        [ 0.07075386],\n",
       "        [-0.16179714],\n",
       "        [ 0.23091342],\n",
       "        [ 0.24864507],\n",
       "        [ 0.5633559 ],\n",
       "        [-0.19188501],\n",
       "        [ 0.03260838],\n",
       "        [ 0.02908765],\n",
       "        [-0.21171205],\n",
       "        [-0.06660835],\n",
       "        [ 0.10099904],\n",
       "        [ 0.10639758],\n",
       "        [-0.35101297],\n",
       "        [-0.0941638 ],\n",
       "        [ 0.13187471],\n",
       "        [-0.2586062 ],\n",
       "        [ 0.16692479],\n",
       "        [ 0.342601  ],\n",
       "        [-0.0073633 ],\n",
       "        [-0.07232603],\n",
       "        [ 0.26612064],\n",
       "        [ 0.24207105],\n",
       "        [-0.04227226],\n",
       "        [-0.14676286],\n",
       "        [ 0.19441266],\n",
       "        [ 0.29326236],\n",
       "        [ 0.07543208],\n",
       "        [-0.27678594],\n",
       "        [ 0.01597934],\n",
       "        [-0.19695783],\n",
       "        [ 0.09931763],\n",
       "        [-0.32915065],\n",
       "        [ 0.3940961 ],\n",
       "        [-0.04628948],\n",
       "        [ 0.34684843],\n",
       "        [-0.16444199],\n",
       "        [ 0.363993  ],\n",
       "        [ 0.16993678],\n",
       "        [ 0.20776103],\n",
       "        [-0.15644278],\n",
       "        [-0.14605664],\n",
       "        [-0.2186896 ],\n",
       "        [-0.01649557],\n",
       "        [ 0.47199112],\n",
       "        [-0.15562725],\n",
       "        [ 0.16296373],\n",
       "        [-0.35195884],\n",
       "        [-0.1654297 ],\n",
       "        [-0.02394489],\n",
       "        [-0.04159937],\n",
       "        [-0.30328655],\n",
       "        [ 0.11128991],\n",
       "        [ 0.07712345],\n",
       "        [-0.16163084],\n",
       "        [-0.2448987 ],\n",
       "        [ 0.18350354],\n",
       "        [ 0.24878143],\n",
       "        [-0.29734337],\n",
       "        [ 0.20937246],\n",
       "        [-0.14647396],\n",
       "        [ 0.11026838],\n",
       "        [-0.15682359],\n",
       "        [-0.07068092],\n",
       "        [-0.19902761],\n",
       "        [-0.09492341],\n",
       "        [-0.3861693 ],\n",
       "        [ 0.02474451],\n",
       "        [ 0.05222009],\n",
       "        [ 0.0645059 ],\n",
       "        [-0.27376217],\n",
       "        [ 0.29790172],\n",
       "        [-0.12876259],\n",
       "        [ 0.16789304],\n",
       "        [ 0.23315051],\n",
       "        [ 0.09661737],\n",
       "        [-0.37550548],\n",
       "        [ 0.22451328],\n",
       "        [ 0.2765722 ],\n",
       "        [-0.19054253],\n",
       "        [ 0.06467005],\n",
       "        [-0.25074285],\n",
       "        [-0.16163781],\n",
       "        [ 0.14440666],\n",
       "        [-0.21685138],\n",
       "        [-0.13901126],\n",
       "        [-0.0235252 ],\n",
       "        [ 0.3207716 ],\n",
       "        [-0.05686059],\n",
       "        [-0.02800883],\n",
       "        [ 0.15328012],\n",
       "        [ 0.130274  ],\n",
       "        [-0.24939619],\n",
       "        [-0.5245017 ],\n",
       "        [ 0.31020632],\n",
       "        [-0.2019896 ],\n",
       "        [-0.14032932],\n",
       "        [-0.2675409 ],\n",
       "        [ 0.14844419],\n",
       "        [ 0.03210498],\n",
       "        [-0.17266679],\n",
       "        [ 0.0811768 ],\n",
       "        [-0.05011353],\n",
       "        [-0.06272717],\n",
       "        [ 0.12906863],\n",
       "        [ 0.00337141],\n",
       "        [-0.03077648],\n",
       "        [ 0.06313259],\n",
       "        [-0.12154894],\n",
       "        [ 0.22772741]], dtype=float32),\n",
       " array([0.10915595], dtype=float32)]"
      ]
     },
     "execution_count": 8,
     "metadata": {},
     "output_type": "execute_result"
    }
   ],
   "source": [
    "model.get_weights()"
   ]
  },
  {
   "cell_type": "code",
   "execution_count": 13,
   "metadata": {},
   "outputs": [
    {
     "name": "stdout",
     "output_type": "stream",
     "text": [
      "[14, 20, 16, 5, 4, 116, 16, 87, 5, 4, 114, 16, 5]\n"
     ]
    },
    {
     "data": {
      "text/plain": [
       "array([[  0,   0,   0,   0,   0,   0,   0,   0,   0,   0,   0,   0,   0,\n",
       "          0,   0,   0,   0,   0,   0,   0,   0,   0,   0,   0,   0,   0,\n",
       "          0,   0,   0,   0,   0,   0,   0,   0,   0,   0,   0,   0,   0,\n",
       "          0,   0,   0,   0,   0,   0,   0,   0,   0,   0,   0,   0,   0,\n",
       "          0,   0,   0,   0,   0,   0,   0,   0,   0,   0,   0,   0,   0,\n",
       "          0,   0,   0,   0,   0,   0,   0,   0,   0,   0,   0,   0,   0,\n",
       "          0,   0,   0,   0,   0,   0,   0,   0,   0,   0,   0,   0,   0,\n",
       "          0,   0,   0,   0,   0,   0,   0,   0,   0,   0,   0,   0,   0,\n",
       "          0,   0,   0,   0,   0,   0,   0,   0,   0,   0,   0,   0,   0,\n",
       "          0,   0,   0,   0,   0,   0,   0,   0,   0,   0,   0,   0,   0,\n",
       "          0,   0,   0,   0,   0,   0,   0,   0,   0,   0,   0,   0,   0,\n",
       "          0,   0,   0,   0,   0,   0,   0,   0,   0,   0,   0,   0,   0,\n",
       "          0,   0,   0,   0,   0,   0,   0,   0,   0,   0,   0,   0,   0,\n",
       "          0,   0,   0,   0,   0,   0,   0,   0,   0,   0,   0,   0,   0,\n",
       "          0,   0,   0,   0,   0,   0,   0,   0,   0,   0,   0,   0,   0,\n",
       "          0,   0,   0,   0,   0,   0,   0,   0,   0,   0,   0,   0,   0,\n",
       "          0,   0,   0,   0,   0,   0,   0,   0,   0,   0,   0,   0,   0,\n",
       "          0,   0,   0,   0,   0,   0,   0,   0,   0,   0,   0,   0,   0,\n",
       "          0,   0,   0,   0,   0,   0,   0,   0,   0,   0,   0,   0,   0,\n",
       "          0,   0,   0,   0,   0,   0,   0,   0,   0,   0,   0,   0,   0,\n",
       "          0,   0,   0,   0,   0,   0,   0,   0,   0,   0,   0,   0,   0,\n",
       "          0,   0,   0,   0,   0,   0,   0,   0,   0,   0,   0,   0,   0,\n",
       "          0,   0,   0,   0,   0,   0,   0,   0,   0,   0,   0,   0,   0,\n",
       "          0,   0,   0,   0,   0,   0,   0,   0,   0,   0,   0,   0,   0,\n",
       "          0,   0,   0,   0,   0,   0,   0,   0,   0,   0,   0,   0,   0,\n",
       "          0,   0,   0,   0,   0,   0,   0,   0,   0,   0,   0,   0,   0,\n",
       "          0,   0,   0,   0,   0,   0,   0,   0,   0,   0,   0,   0,   0,\n",
       "          0,   0,   0,   0,   0,   0,   0,   0,   0,   0,   0,   0,   0,\n",
       "          0,   0,   0,   0,   0,   0,   0,   0,   0,   0,   0,   0,   0,\n",
       "          0,   0,   0,   0,   0,   0,   0,   0,   0,   0,   0,   0,   0,\n",
       "          0,   0,   0,   0,   0,   0,   0,   0,   0,   0,   0,   0,   0,\n",
       "          0,   0,   0,   0,   0,   0,   0,   0,   0,   0,   0,   0,   0,\n",
       "          0,   0,   0,   0,   0,   0,   0,   0,   0,   0,   0,   0,   0,\n",
       "          0,   0,   0,   0,   0,   0,   0,   0,   0,   0,   0,   0,   0,\n",
       "          0,   0,   0,   0,   0,   0,   0,   0,   0,   0,   0,   0,   0,\n",
       "          0,   0,   0,   0,   0,   0,   0,   0,   0,   0,   0,   0,   0,\n",
       "          0,   0,   0,   0,   0,   0,   0,   0,   0,   0,   0,   0,   0,\n",
       "          0,   0,   0,   0,   0,   0,  14,  20,  16,   5,   4, 116,  16,\n",
       "         87,   5,   4, 114,  16,   5]])"
      ]
     },
     "execution_count": 13,
     "metadata": {},
     "output_type": "execute_result"
    }
   ],
   "source": [
    "# Step 2: Helper Functions\n",
    "# Function to decode reviews\n",
    "def decode_review(encoded_review):\n",
    "    return ' '.join([reverse_word_index.get(i - 3, '?') for i in encoded_review])\n",
    "\n",
    "# Function to preprocess user input\n",
    "def preprocess_text(text):\n",
    "    words = text.lower().split()\n",
    "    encoded_review = [word_index.get(word, 2) + 3 for word in words]\n",
    "    ### encoded_review will give the index of words against 10000 vocabulary\n",
    "    padded_review = sequence.pad_sequences([encoded_review], maxlen=500)\n",
    "    return padded_review\n",
    "    ### padded_review will give the padded sequenece after adding the 0's and making the size to 500"
   ]
  },
  {
   "cell_type": "code",
   "execution_count": 10,
   "metadata": {},
   "outputs": [],
   "source": [
    "### Prediction  function\n",
    "\n",
    "def predict_sentiment(review):\n",
    "    preprocessed_input=preprocess_text(review)\n",
    "    prediction=model.predict(preprocessed_input)\n",
    "    sentiment = 'Positive' if prediction[0][0] > 0.5 else 'Negative' \n",
    "    return sentiment, prediction[0][0]\n"
   ]
  },
  {
   "cell_type": "code",
   "execution_count": null,
   "metadata": {},
   "outputs": [
    {
     "name": "stdout",
     "output_type": "stream",
     "text": [
      "\u001b[1m1/1\u001b[0m \u001b[32m━━━━━━━━━━━━━━━━━━━━\u001b[0m\u001b[37m\u001b[0m \u001b[1m0s\u001b[0m 441ms/step\n",
      "Review: This movie was fantastic! The acting was great and the plot was thrilling.\n",
      "Sentiment: Positive\n",
      "Prediction Score: 0.6350045800209045\n"
     ]
    }
   ],
   "source": [
    "# Step 4: User Input and Prediction\n",
    "# Example review for prediction\n",
    "example_review = \"This movie was fantastic! The acting was great and the plot was thrilling.\"\n",
    "\n",
    "sentiment,score=predict_sentiment(example_review)\n",
    "\n",
    "print(f'Review: {example_review}')\n",
    "print(f'Sentiment: {sentiment}')\n",
    "print(f'Prediction Score: {score}')"
   ]
  }
 ],
 "metadata": {
  "kernelspec": {
   "display_name": "senv",
   "language": "python",
   "name": "python3"
  },
  "language_info": {
   "codemirror_mode": {
    "name": "ipython",
    "version": 3
   },
   "file_extension": ".py",
   "mimetype": "text/x-python",
   "name": "python",
   "nbconvert_exporter": "python",
   "pygments_lexer": "ipython3",
   "version": "3.12.7"
  }
 },
 "nbformat": 4,
 "nbformat_minor": 2
}
